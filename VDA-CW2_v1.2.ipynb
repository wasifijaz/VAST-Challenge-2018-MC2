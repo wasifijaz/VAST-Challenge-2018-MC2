version https://git-lfs.github.com/spec/v1
oid sha256:b35c1ed45f03c814d643c24b30a1980c19000a90b29b4bb83bda5d52039d5df5
size 247219548
